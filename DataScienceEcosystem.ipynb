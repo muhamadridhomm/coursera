{
 "cells": [
  {
   "cell_type": "markdown",
   "id": "65159c88-68e3-4b06-848a-891f1491ebcd",
   "metadata": {},
   "source": [
    "# Data Science Tools and Ecosystem"
   ]
  },
  {
   "cell_type": "markdown",
   "id": "cccb39c5-c040-4616-8255-858ac7c160ca",
   "metadata": {
    "tags": []
   },
   "source": [
    "#### In this notebook, Data Science Tools and Ecosystem are summarized."
   ]
  },
  {
   "cell_type": "markdown",
   "id": "33715245-cdae-4ee9-a97f-d1117e0bf4d0",
   "metadata": {
    "tags": []
   },
   "source": [
    "#### __Objectives:__\n",
    "- List of popular languages for Data Science\n",
    "- List of commonly used libraries used by Data Scientists\n",
    "- Examples of Arithmetic Expression Evaluations"
   ]
  },
  {
   "cell_type": "markdown",
   "id": "5e8edeb6-fc61-424a-8eca-d087de91356d",
   "metadata": {
    "tags": []
   },
   "source": [
    "#### __Objectives:__\n",
    "- List of popular languages for Data Science\n",
    "- List of commonly used libraries used by Data Scientists\n",
    "- Examples of Arithmetic Expression Evaluations"
   ]
  },
  {
   "cell_type": "markdown",
   "id": "bcfab696-c002-49e9-ad08-8f90ec835d75",
   "metadata": {},
   "source": [
    "##### Some of the popular languages that Data Scientists use are:\n",
    "###### 1. Python\n",
    "###### 2. R\n",
    "###### 3. SQL# Some of the popular languages that Data Scientists use are:"
   ]
  },
  {
   "cell_type": "markdown",
   "id": "b925e125-66fb-4afd-856b-50cffbe0b284",
   "metadata": {
    "tags": []
   },
   "source": [
    "##### Some of the commonly used libraries used by Data Scientists include:\n",
    "###### 1. Numpy\n",
    "###### 2. Scipy\n",
    "###### 3. Pandas"
   ]
  },
  {
   "cell_type": "markdown",
   "id": "19d03d96-447d-4318-806b-af45358f6a7a",
   "metadata": {},
   "source": [
    "| Data Science Tools |\n",
    "| --- |\n",
    "| Apache Zeppelin |\n",
    "| Jupyter Notebooks |\n",
    "| Spyder |"
   ]
  },
  {
   "cell_type": "markdown",
   "id": "eab42336-c536-46b7-80e1-6f2ac6ef3afb",
   "metadata": {},
   "source": [
    "### Below are a few examples of evaluating arithmetic expressions in Python:"
   ]
  },
  {
   "cell_type": "code",
   "execution_count": 3,
   "id": "bb7d6c51-543e-4878-a20a-6966816255fb",
   "metadata": {
    "tags": []
   },
   "outputs": [
    {
     "data": {
      "text/plain": [
       "17"
      ]
     },
     "execution_count": 3,
     "metadata": {},
     "output_type": "execute_result"
    }
   ],
   "source": [
    "#This a simple arithmetic expression to mutiply then add integers\n",
    "(3*4)+5"
   ]
  },
  {
   "cell_type": "code",
   "execution_count": 5,
   "id": "493d49c8-3ebf-422d-ac14-eb5e412ecef4",
   "metadata": {
    "tags": []
   },
   "outputs": [
    {
     "data": {
      "text/plain": [
       "3.3333333333333335"
      ]
     },
     "execution_count": 5,
     "metadata": {},
     "output_type": "execute_result"
    }
   ],
   "source": [
    "#This will convert 200 minutes to hours by diving by 60\n",
    "200/60"
   ]
  },
  {
   "cell_type": "markdown",
   "id": "375830f9-bf6a-4d7d-8755-b0520628144a",
   "metadata": {},
   "source": [
    "## Author\n",
    "Muhamad Ridho Maulana Mustaqim"
   ]
  }
 ],
 "metadata": {
  "kernelspec": {
   "display_name": "Python",
   "language": "python",
   "name": "conda-env-python-py"
  },
  "language_info": {
   "codemirror_mode": {
    "name": "ipython",
    "version": 3
   },
   "file_extension": ".py",
   "mimetype": "text/x-python",
   "name": "python",
   "nbconvert_exporter": "python",
   "pygments_lexer": "ipython3",
   "version": "3.7.12"
  }
 },
 "nbformat": 4,
 "nbformat_minor": 5
}
